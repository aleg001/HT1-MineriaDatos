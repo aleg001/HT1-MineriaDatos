{
 "cells": [
  {
   "attachments": {},
   "cell_type": "markdown",
   "metadata": {},
   "source": [
    "## Hoja de trabajo #1\n",
    "\n",
    "Documento en el que se trabajará los incisos 1.1-1.4 de la Hoja de Trabajo #1.\n",
    "Se hizo uso de la función read_csv para leer el archivo csv.\n",
    "En caso se desee replicar, se recomienda tener el archivo en el mismo directorio en el cual se está trabajando, para evitar realizarle modificaciones al momento de replicarlo."
   ]
  },
  {
   "cell_type": "code",
   "execution_count": null,
   "metadata": {},
   "outputs": [],
   "source": [
    "# Imports\n",
    "\n",
    "import numpy as np\n",
    "import matplotlib.pyplot as plt\n",
    "import pandas as pd"
   ]
  },
  {
   "cell_type": "code",
   "execution_count": 3,
   "metadata": {},
   "outputs": [],
   "source": [
    "baseballData = pd.read_csv('baseball_reference_2016_scrape.csv')\n",
    "X = baseballData.iloc[:, :-1]\n",
    "y = baseballData.iloc[:, -1]"
   ]
  },
  {
   "attachments": {},
   "cell_type": "markdown",
   "metadata": {},
   "source": [
    "1.1. Haga una exploración rápida de sus datos para eso haga un resumen de su\n",
    "dataset.\n",
    "\n",
    "Se hizo uso de la función describe para producir como resultado el resumen de el dataset brindado. "
   ]
  },
  {
   "cell_type": "code",
   "execution_count": 7,
   "metadata": {},
   "outputs": [
    {
     "data": {
      "text/html": [
       "<div>\n",
       "<style scoped>\n",
       "    .dataframe tbody tr th:only-of-type {\n",
       "        vertical-align: middle;\n",
       "    }\n",
       "\n",
       "    .dataframe tbody tr th {\n",
       "        vertical-align: top;\n",
       "    }\n",
       "\n",
       "    .dataframe thead th {\n",
       "        text-align: right;\n",
       "    }\n",
       "</style>\n",
       "<table border=\"1\" class=\"dataframe\">\n",
       "  <thead>\n",
       "    <tr style=\"text-align: right;\">\n",
       "      <th></th>\n",
       "      <th>away_team_errors</th>\n",
       "      <th>away_team_hits</th>\n",
       "      <th>away_team_runs</th>\n",
       "      <th>field_type</th>\n",
       "      <th>home_team_errors</th>\n",
       "      <th>home_team_hits</th>\n",
       "      <th>home_team_runs</th>\n",
       "    </tr>\n",
       "  </thead>\n",
       "  <tbody>\n",
       "    <tr>\n",
       "      <th>count</th>\n",
       "      <td>2463.000000</td>\n",
       "      <td>2463.000000</td>\n",
       "      <td>2463.000000</td>\n",
       "      <td>0.0</td>\n",
       "      <td>2463.000000</td>\n",
       "      <td>2463.000000</td>\n",
       "      <td>2463.000000</td>\n",
       "    </tr>\n",
       "    <tr>\n",
       "      <th>mean</th>\n",
       "      <td>0.580593</td>\n",
       "      <td>8.764515</td>\n",
       "      <td>4.413723</td>\n",
       "      <td>NaN</td>\n",
       "      <td>0.585871</td>\n",
       "      <td>8.611855</td>\n",
       "      <td>4.519691</td>\n",
       "    </tr>\n",
       "    <tr>\n",
       "      <th>std</th>\n",
       "      <td>0.793391</td>\n",
       "      <td>3.511581</td>\n",
       "      <td>3.104556</td>\n",
       "      <td>NaN</td>\n",
       "      <td>0.805542</td>\n",
       "      <td>3.436965</td>\n",
       "      <td>3.111572</td>\n",
       "    </tr>\n",
       "    <tr>\n",
       "      <th>min</th>\n",
       "      <td>0.000000</td>\n",
       "      <td>1.000000</td>\n",
       "      <td>0.000000</td>\n",
       "      <td>NaN</td>\n",
       "      <td>0.000000</td>\n",
       "      <td>0.000000</td>\n",
       "      <td>0.000000</td>\n",
       "    </tr>\n",
       "    <tr>\n",
       "      <th>25%</th>\n",
       "      <td>0.000000</td>\n",
       "      <td>6.000000</td>\n",
       "      <td>2.000000</td>\n",
       "      <td>NaN</td>\n",
       "      <td>0.000000</td>\n",
       "      <td>6.000000</td>\n",
       "      <td>2.000000</td>\n",
       "    </tr>\n",
       "    <tr>\n",
       "      <th>50%</th>\n",
       "      <td>0.000000</td>\n",
       "      <td>8.000000</td>\n",
       "      <td>4.000000</td>\n",
       "      <td>NaN</td>\n",
       "      <td>0.000000</td>\n",
       "      <td>8.000000</td>\n",
       "      <td>4.000000</td>\n",
       "    </tr>\n",
       "    <tr>\n",
       "      <th>75%</th>\n",
       "      <td>1.000000</td>\n",
       "      <td>11.000000</td>\n",
       "      <td>6.000000</td>\n",
       "      <td>NaN</td>\n",
       "      <td>1.000000</td>\n",
       "      <td>11.000000</td>\n",
       "      <td>6.000000</td>\n",
       "    </tr>\n",
       "    <tr>\n",
       "      <th>max</th>\n",
       "      <td>5.000000</td>\n",
       "      <td>22.000000</td>\n",
       "      <td>21.000000</td>\n",
       "      <td>NaN</td>\n",
       "      <td>5.000000</td>\n",
       "      <td>22.000000</td>\n",
       "      <td>17.000000</td>\n",
       "    </tr>\n",
       "  </tbody>\n",
       "</table>\n",
       "</div>"
      ],
      "text/plain": [
       "       away_team_errors  away_team_hits  away_team_runs  field_type  \\\n",
       "count       2463.000000     2463.000000     2463.000000         0.0   \n",
       "mean           0.580593        8.764515        4.413723         NaN   \n",
       "std            0.793391        3.511581        3.104556         NaN   \n",
       "min            0.000000        1.000000        0.000000         NaN   \n",
       "25%            0.000000        6.000000        2.000000         NaN   \n",
       "50%            0.000000        8.000000        4.000000         NaN   \n",
       "75%            1.000000       11.000000        6.000000         NaN   \n",
       "max            5.000000       22.000000       21.000000         NaN   \n",
       "\n",
       "       home_team_errors  home_team_hits  home_team_runs  \n",
       "count       2463.000000     2463.000000     2463.000000  \n",
       "mean           0.585871        8.611855        4.519691  \n",
       "std            0.805542        3.436965        3.111572  \n",
       "min            0.000000        0.000000        0.000000  \n",
       "25%            0.000000        6.000000        2.000000  \n",
       "50%            0.000000        8.000000        4.000000  \n",
       "75%            1.000000       11.000000        6.000000  \n",
       "max            5.000000       22.000000       17.000000  "
      ]
     },
     "execution_count": 7,
     "metadata": {},
     "output_type": "execute_result"
    }
   ],
   "source": [
    "# Imprimir un resumen del dataset\n",
    "baseballData.describe()"
   ]
  },
  {
   "cell_type": "code",
   "execution_count": 8,
   "metadata": {},
   "outputs": [
    {
     "data": {
      "text/plain": [
       "['attendance',\n",
       " 'away_team',\n",
       " 'away_team_errors',\n",
       " 'away_team_hits',\n",
       " 'away_team_runs',\n",
       " 'boxscore_url',\n",
       " 'date',\n",
       " 'field_type',\n",
       " 'game_duration',\n",
       " 'game_type',\n",
       " 'home_team',\n",
       " 'home_team_errors',\n",
       " 'home_team_hits',\n",
       " 'home_team_runs',\n",
       " 'other_info_string',\n",
       " 'start_time',\n",
       " 'venue']"
      ]
     },
     "execution_count": 8,
     "metadata": {},
     "output_type": "execute_result"
    }
   ],
   "source": [
    "# Impresion de las variables del dataset\n",
    "baseballData.columns.values.tolist()"
   ]
  },
  {
   "attachments": {},
   "cell_type": "markdown",
   "metadata": {},
   "source": [
    "1.2. Diga el tipo de cada una de las variables del dataset (cualitativa o categórica,\n",
    "cuantitativa continua, cuantitativa discreta)\n",
    "\n",
    "- attendance = cuantitativa discreta\n",
    "- boxscore_url = cualitativa\n",
    "- home_team = cualitativa\n",
    "- start_time = cuantitativa continua\n",
    "- away_team = cualitativa\n",
    "- date = cuantitativa continua\n",
    "- home_team_errors  cuantitativa discreta\n",
    "- venue = cualitativa\n",
    "- away_team_errors  cuantitativa discreta\n",
    "- field_type = cualitativa\n",
    "- home_team_hits = cuantitativa discreta\n",
    "- away_team_hits = cuantitativa discreta\n",
    "- game_duration = cuantitativa continua\n",
    "- home_team_runs = cuantitativa discreta\n",
    "- away_team_runs = cuantitativa discreta\n",
    "- game_type = cualitativa\n",
    "- other_info_string = cualitativa"
   ]
  },
  {
   "attachments": {},
   "cell_type": "markdown",
   "metadata": {},
   "source": [
    "1.3. Incluya los gráficos exploratorios siendo consecuentes con el tipo de variable que están representando."
   ]
  }
 ],
 "metadata": {
  "kernelspec": {
   "display_name": "Python 3",
   "language": "python",
   "name": "python3"
  },
  "language_info": {
   "codemirror_mode": {
    "name": "ipython",
    "version": 3
   },
   "file_extension": ".py",
   "mimetype": "text/x-python",
   "name": "python",
   "nbconvert_exporter": "python",
   "pygments_lexer": "ipython3",
   "version": "3.10.2"
  },
  "orig_nbformat": 4,
  "vscode": {
   "interpreter": {
    "hash": "aee8b7b246df8f9039afb4144a1f6fd8d2ca17a180786b69acc140d282b71a49"
   }
  }
 },
 "nbformat": 4,
 "nbformat_minor": 2
}
